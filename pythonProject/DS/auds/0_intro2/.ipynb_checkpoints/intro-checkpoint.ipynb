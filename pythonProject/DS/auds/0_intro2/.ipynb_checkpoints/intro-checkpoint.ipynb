{
 "cells": [
  {
   "cell_type": "code",
   "execution_count": 1,
   "id": "20e84ef9-05d6-413c-a919-d9ef5b76486e",
   "metadata": {},
   "outputs": [],
   "source": [
    "import numpy as np\n",
    "import pandas as pd"
   ]
  },
  {
   "cell_type": "code",
   "execution_count": 2,
   "id": "f002e46b-a25c-4e60-84ad-c54e79b90fcc",
   "metadata": {},
   "outputs": [],
   "source": [
    "array = np.array([1, 2, 5, 6])"
   ]
  },
  {
   "cell_type": "code",
   "execution_count": 3,
   "id": "21874a27-eb07-40e2-8c3e-6639ac94d083",
   "metadata": {},
   "outputs": [
    {
     "data": {
      "text/plain": [
       "array([1, 2, 5, 6])"
      ]
     },
     "execution_count": 3,
     "metadata": {},
     "output_type": "execute_result"
    }
   ],
   "source": [
    "array"
   ]
  },
  {
   "cell_type": "code",
   "execution_count": 4,
   "id": "e3efe735-0cf9-4dfd-84a1-546d06de5861",
   "metadata": {},
   "outputs": [],
   "source": [
    "array_mixed = np.array([1,2,3,4, \"abc\"])"
   ]
  },
  {
   "cell_type": "code",
   "execution_count": 5,
   "id": "6850ef57-6cbb-470c-ba9b-a0f63683d620",
   "metadata": {},
   "outputs": [
    {
     "data": {
      "text/plain": [
       "array(['1', '2', '3', '4', 'abc'], dtype='<U11')"
      ]
     },
     "execution_count": 5,
     "metadata": {},
     "output_type": "execute_result"
    }
   ],
   "source": [
    "array_mixed"
   ]
  },
  {
   "cell_type": "code",
   "execution_count": 6,
   "id": "dda8617d-8d99-4b23-bff6-fa9f235fc008",
   "metadata": {},
   "outputs": [
    {
     "data": {
      "text/plain": [
       "1"
      ]
     },
     "execution_count": 6,
     "metadata": {},
     "output_type": "execute_result"
    }
   ],
   "source": [
    "array_mixed.ndim"
   ]
  },
  {
   "cell_type": "code",
   "execution_count": 7,
   "id": "672188bc-ce2c-4cb0-b4be-f23a36b48fd5",
   "metadata": {},
   "outputs": [
    {
     "data": {
      "text/plain": [
       "(5,)"
      ]
     },
     "execution_count": 7,
     "metadata": {},
     "output_type": "execute_result"
    }
   ],
   "source": [
    "array_mixed.shape"
   ]
  },
  {
   "cell_type": "code",
   "execution_count": 8,
   "id": "cddf2832-4199-4e5f-8f17-c6c515fc23c7",
   "metadata": {},
   "outputs": [
    {
     "data": {
      "text/plain": [
       "array(['1', '2', '3', '4', 'abc'], dtype='<U11')"
      ]
     },
     "execution_count": 8,
     "metadata": {},
     "output_type": "execute_result"
    }
   ],
   "source": [
    "array_mixed"
   ]
  },
  {
   "cell_type": "code",
   "execution_count": 9,
   "id": "542bbf1b-2f36-4df0-9080-7eb34b8a5864",
   "metadata": {},
   "outputs": [
    {
     "data": {
      "text/plain": [
       "'1'"
      ]
     },
     "execution_count": 9,
     "metadata": {},
     "output_type": "execute_result"
    }
   ],
   "source": [
    "array_mixed[0]"
   ]
  },
  {
   "cell_type": "code",
   "execution_count": 10,
   "id": "16e056cd-8d92-4d1f-9aef-5ebca95d42de",
   "metadata": {},
   "outputs": [],
   "source": [
    "matrix = np.array([\n",
    "    [1,2,3,4],\n",
    "    [5,6,7,8]\n",
    "])"
   ]
  },
  {
   "cell_type": "code",
   "execution_count": 11,
   "id": "3ea7f2fe-8a14-440e-a7b5-dc2a6c7b2576",
   "metadata": {},
   "outputs": [
    {
     "data": {
      "text/plain": [
       "array([[1, 2, 3, 4],\n",
       "       [5, 6, 7, 8]])"
      ]
     },
     "execution_count": 11,
     "metadata": {},
     "output_type": "execute_result"
    }
   ],
   "source": [
    "matrix"
   ]
  },
  {
   "cell_type": "code",
   "execution_count": 12,
   "id": "74a40286-7daa-42b9-9a81-0d5e79f0e909",
   "metadata": {},
   "outputs": [
    {
     "data": {
      "text/plain": [
       "(2, 4)"
      ]
     },
     "execution_count": 12,
     "metadata": {},
     "output_type": "execute_result"
    }
   ],
   "source": [
    "matrix.shape"
   ]
  },
  {
   "cell_type": "code",
   "execution_count": 13,
   "id": "0664ea0d-53ad-4966-bdce-69522cb83260",
   "metadata": {},
   "outputs": [
    {
     "data": {
      "text/plain": [
       "array([1, 2, 5, 6])"
      ]
     },
     "execution_count": 13,
     "metadata": {},
     "output_type": "execute_result"
    }
   ],
   "source": [
    "array"
   ]
  },
  {
   "cell_type": "code",
   "execution_count": 14,
   "id": "3f624e0f-cc67-447f-9d97-68144fb55ba4",
   "metadata": {},
   "outputs": [
    {
     "data": {
      "text/plain": [
       "array([[ 2,  4,  8, 10],\n",
       "       [ 6,  8, 12, 14]])"
      ]
     },
     "execution_count": 14,
     "metadata": {},
     "output_type": "execute_result"
    }
   ],
   "source": [
    "array + matrix"
   ]
  },
  {
   "cell_type": "code",
   "execution_count": 15,
   "id": "757a3a50-a15b-4e07-abb0-940302da4d28",
   "metadata": {},
   "outputs": [
    {
     "data": {
      "text/plain": [
       "array([[ 0,  0,  2,  2],\n",
       "       [-4, -4, -2, -2]])"
      ]
     },
     "execution_count": 15,
     "metadata": {},
     "output_type": "execute_result"
    }
   ],
   "source": [
    "array - matrix\n"
   ]
  },
  {
   "cell_type": "code",
   "execution_count": 16,
   "id": "f5a16597-4a64-4505-b975-100f66bf7f0b",
   "metadata": {},
   "outputs": [
    {
     "data": {
      "text/plain": [
       "array([[ 1,  4, 15, 24],\n",
       "       [ 5, 12, 35, 48]])"
      ]
     },
     "execution_count": 16,
     "metadata": {},
     "output_type": "execute_result"
    }
   ],
   "source": [
    "array * matrix"
   ]
  },
  {
   "cell_type": "code",
   "execution_count": 17,
   "id": "0f4af5f4-1c39-4398-9ad3-fe5b4ce3c082",
   "metadata": {},
   "outputs": [
    {
     "data": {
      "text/plain": [
       "14"
      ]
     },
     "execution_count": 17,
     "metadata": {},
     "output_type": "execute_result"
    }
   ],
   "source": [
    "np.sum(array)"
   ]
  },
  {
   "cell_type": "code",
   "execution_count": 18,
   "id": "ee889b2e-daa9-4685-93ec-0126e01f2823",
   "metadata": {},
   "outputs": [
    {
     "data": {
      "text/plain": [
       "array([[ 1,  4, 15, 24],\n",
       "       [ 5, 12, 35, 48]])"
      ]
     },
     "execution_count": 18,
     "metadata": {},
     "output_type": "execute_result"
    }
   ],
   "source": [
    "np.multiply(array, matrix)"
   ]
  },
  {
   "cell_type": "markdown",
   "id": "fec1e1d9-da46-49c3-8aea-2d403881d0eb",
   "metadata": {},
   "source": [
    "### Pandas"
   ]
  },
  {
   "cell_type": "code",
   "execution_count": 23,
   "id": "96a5488c-4fc6-4de3-adb1-515edd37e4cf",
   "metadata": {},
   "outputs": [
    {
     "data": {
      "text/html": [
       "<div>\n",
       "<style scoped>\n",
       "    .dataframe tbody tr th:only-of-type {\n",
       "        vertical-align: middle;\n",
       "    }\n",
       "\n",
       "    .dataframe tbody tr th {\n",
       "        vertical-align: top;\n",
       "    }\n",
       "\n",
       "    .dataframe thead th {\n",
       "        text-align: right;\n",
       "    }\n",
       "</style>\n",
       "<table border=\"1\" class=\"dataframe\">\n",
       "  <thead>\n",
       "    <tr style=\"text-align: right;\">\n",
       "      <th></th>\n",
       "      <th>index</th>\n",
       "      <th>name</th>\n",
       "      <th>grade</th>\n",
       "    </tr>\n",
       "  </thead>\n",
       "  <tbody>\n",
       "    <tr>\n",
       "      <th>0</th>\n",
       "      <td>1235</td>\n",
       "      <td>Ace</td>\n",
       "      <td>5</td>\n",
       "    </tr>\n",
       "    <tr>\n",
       "      <th>1</th>\n",
       "      <td>43534</td>\n",
       "      <td>Milena</td>\n",
       "      <td>6</td>\n",
       "    </tr>\n",
       "    <tr>\n",
       "      <th>2</th>\n",
       "      <td>72623</td>\n",
       "      <td>Ana</td>\n",
       "      <td>7</td>\n",
       "    </tr>\n",
       "    <tr>\n",
       "      <th>3</th>\n",
       "      <td>78625</td>\n",
       "      <td>Simon</td>\n",
       "      <td>8</td>\n",
       "    </tr>\n",
       "  </tbody>\n",
       "</table>\n",
       "</div>"
      ],
      "text/plain": [
       "   index    name  grade\n",
       "0   1235     Ace      5\n",
       "1  43534  Milena      6\n",
       "2  72623     Ana      7\n",
       "3  78625   Simon      8"
      ]
     },
     "execution_count": 23,
     "metadata": {},
     "output_type": "execute_result"
    }
   ],
   "source": [
    "df"
   ]
  },
  {
   "cell_type": "code",
   "execution_count": 21,
   "id": "e669a268-117e-40fe-ac64-7ca81741b9dc",
   "metadata": {},
   "outputs": [],
   "source": [
    "data = {\n",
    "    \"index\": [1235, 43534, 72623, 78625],\n",
    "    \"name\": [\"Ace\", \"Milena\", \"Ana\", \"Simon\"],\n",
    "    \"grade\": [5,6,7,8]\n",
    "}"
   ]
  },
  {
   "cell_type": "code",
   "execution_count": 24,
   "id": "588fdfc0-e229-40e7-aef7-e34a456adae8",
   "metadata": {},
   "outputs": [],
   "source": [
    "df = pd.DataFrame(data)"
   ]
  },
  {
   "cell_type": "code",
   "execution_count": 25,
   "id": "2235fd5c-8e7c-4a6f-ab92-e11ae0460a33",
   "metadata": {},
   "outputs": [
    {
     "data": {
      "text/html": [
       "<div>\n",
       "<style scoped>\n",
       "    .dataframe tbody tr th:only-of-type {\n",
       "        vertical-align: middle;\n",
       "    }\n",
       "\n",
       "    .dataframe tbody tr th {\n",
       "        vertical-align: top;\n",
       "    }\n",
       "\n",
       "    .dataframe thead th {\n",
       "        text-align: right;\n",
       "    }\n",
       "</style>\n",
       "<table border=\"1\" class=\"dataframe\">\n",
       "  <thead>\n",
       "    <tr style=\"text-align: right;\">\n",
       "      <th></th>\n",
       "      <th>index</th>\n",
       "      <th>name</th>\n",
       "      <th>grade</th>\n",
       "    </tr>\n",
       "  </thead>\n",
       "  <tbody>\n",
       "    <tr>\n",
       "      <th>0</th>\n",
       "      <td>1235</td>\n",
       "      <td>Ace</td>\n",
       "      <td>5</td>\n",
       "    </tr>\n",
       "    <tr>\n",
       "      <th>1</th>\n",
       "      <td>43534</td>\n",
       "      <td>Milena</td>\n",
       "      <td>6</td>\n",
       "    </tr>\n",
       "    <tr>\n",
       "      <th>2</th>\n",
       "      <td>72623</td>\n",
       "      <td>Ana</td>\n",
       "      <td>7</td>\n",
       "    </tr>\n",
       "    <tr>\n",
       "      <th>3</th>\n",
       "      <td>78625</td>\n",
       "      <td>Simon</td>\n",
       "      <td>8</td>\n",
       "    </tr>\n",
       "  </tbody>\n",
       "</table>\n",
       "</div>"
      ],
      "text/plain": [
       "   index    name  grade\n",
       "0   1235     Ace      5\n",
       "1  43534  Milena      6\n",
       "2  72623     Ana      7\n",
       "3  78625   Simon      8"
      ]
     },
     "execution_count": 25,
     "metadata": {},
     "output_type": "execute_result"
    }
   ],
   "source": [
    "df"
   ]
  },
  {
   "cell_type": "code",
   "execution_count": 26,
   "id": "452d80b8-4c61-4e7f-bede-f7d3492615fb",
   "metadata": {},
   "outputs": [],
   "source": [
    "df.to_csv(\"grades.csv\")"
   ]
  },
  {
   "cell_type": "code",
   "execution_count": 27,
   "id": "337923e4-b6a4-4f95-ae8e-e6054d4d6b0e",
   "metadata": {},
   "outputs": [
    {
     "name": "stdout",
     "output_type": "stream",
     "text": [
      "   index    name  grade\n",
      "0   1235     Ace      5\n",
      "1  43534  Milena      6\n",
      "2  72623     Ana      7\n",
      "3  78625   Simon      8\n"
     ]
    }
   ],
   "source": [
    "print(df)"
   ]
  },
  {
   "cell_type": "code",
   "execution_count": 37,
   "id": "a964e09e-d709-4427-8c61-96e177f10c84",
   "metadata": {},
   "outputs": [],
   "source": [
    "array2 = np.ones([4,3])"
   ]
  },
  {
   "cell_type": "code",
   "execution_count": 38,
   "id": "4c2323fb-fc02-4660-88ec-95bfbb388b6e",
   "metadata": {},
   "outputs": [
    {
     "name": "stdout",
     "output_type": "stream",
     "text": [
      "[[1. 1. 1.]\n",
      " [1. 1. 1.]\n",
      " [1. 1. 1.]\n",
      " [1. 1. 1.]]\n"
     ]
    }
   ],
   "source": [
    "print(array2)"
   ]
  },
  {
   "cell_type": "code",
   "execution_count": null,
   "id": "7e4a8f88-81fe-4923-a110-899756133fb4",
   "metadata": {},
   "outputs": [],
   "source": []
  }
 ],
 "metadata": {
  "kernelspec": {
   "display_name": "Python 3 (ipykernel)",
   "language": "python",
   "name": "python3"
  },
  "language_info": {
   "codemirror_mode": {
    "name": "ipython",
    "version": 3
   },
   "file_extension": ".py",
   "mimetype": "text/x-python",
   "name": "python",
   "nbconvert_exporter": "python",
   "pygments_lexer": "ipython3",
   "version": "3.8.10"
  }
 },
 "nbformat": 4,
 "nbformat_minor": 5
}
