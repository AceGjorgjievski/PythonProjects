{
 "cells": [
  {
   "cell_type": "code",
   "execution_count": 2,
   "id": "20e84ef9-05d6-413c-a919-d9ef5b76486e",
   "metadata": {},
   "outputs": [],
   "source": [
    "import numpy as np\n",
    "import pandas as pd"
   ]
  },
  {
   "cell_type": "code",
   "execution_count": 3,
   "id": "f002e46b-a25c-4e60-84ad-c54e79b90fcc",
   "metadata": {},
   "outputs": [],
   "source": [
    "array = np.array([1, 2, 5, 6])"
   ]
  },
  {
   "cell_type": "code",
   "execution_count": 4,
   "id": "21874a27-eb07-40e2-8c3e-6639ac94d083",
   "metadata": {},
   "outputs": [
    {
     "data": {
      "text/plain": [
       "array([1, 2, 5, 6])"
      ]
     },
     "execution_count": 4,
     "metadata": {},
     "output_type": "execute_result"
    }
   ],
   "source": [
    "array"
   ]
  },
  {
   "cell_type": "code",
   "execution_count": 8,
   "id": "e3efe735-0cf9-4dfd-84a1-546d06de5861",
   "metadata": {},
   "outputs": [],
   "source": [
    "array_mixed = np.array([1,2,3,4, \"abc\"])"
   ]
  },
  {
   "cell_type": "code",
   "execution_count": 9,
   "id": "6850ef57-6cbb-470c-ba9b-a0f63683d620",
   "metadata": {},
   "outputs": [
    {
     "data": {
      "text/plain": [
       "array(['1', '2', '3', '4', 'abc'], dtype='<U11')"
      ]
     },
     "execution_count": 9,
     "metadata": {},
     "output_type": "execute_result"
    }
   ],
   "source": [
    "array_mixed"
   ]
  },
  {
   "cell_type": "code",
   "execution_count": 10,
   "id": "dda8617d-8d99-4b23-bff6-fa9f235fc008",
   "metadata": {},
   "outputs": [
    {
     "data": {
      "text/plain": [
       "1"
      ]
     },
     "execution_count": 10,
     "metadata": {},
     "output_type": "execute_result"
    }
   ],
   "source": [
    "array_mixed.ndim"
   ]
  },
  {
   "cell_type": "code",
   "execution_count": 12,
   "id": "672188bc-ce2c-4cb0-b4be-f23a36b48fd5",
   "metadata": {},
   "outputs": [
    {
     "data": {
      "text/plain": [
       "(5,)"
      ]
     },
     "execution_count": 12,
     "metadata": {},
     "output_type": "execute_result"
    }
   ],
   "source": [
    "array_mixed.shape"
   ]
  },
  {
   "cell_type": "code",
   "execution_count": null,
   "id": "cddf2832-4199-4e5f-8f17-c6c515fc23c7",
   "metadata": {},
   "outputs": [],
   "source": [
    "array_mixed"
   ]
  }
 ],
 "metadata": {
  "kernelspec": {
   "display_name": "Python 3 (ipykernel)",
   "language": "python",
   "name": "python3"
  },
  "language_info": {
   "codemirror_mode": {
    "name": "ipython",
    "version": 3
   },
   "file_extension": ".py",
   "mimetype": "text/x-python",
   "name": "python",
   "nbconvert_exporter": "python",
   "pygments_lexer": "ipython3",
   "version": "3.8.10"
  }
 },
 "nbformat": 4,
 "nbformat_minor": 5
}
