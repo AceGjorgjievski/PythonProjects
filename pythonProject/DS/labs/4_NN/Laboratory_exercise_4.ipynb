{
 "cells": [
  {
   "cell_type": "markdown",
   "metadata": {
    "id": "t7JOxuK9Jje2"
   },
   "source": [
    "# Laboratory exercise 4\n",
    "\n",
    "## Warm-Up Mode (2 points)\n",
    "\n",
    "**Task Description**  \n",
    "Using the given dataset, develop and implement **3** different neural networks to predict the **air quality level**. Each network should differ in the following ways:  \n",
    "\n",
    "- **layer configurations** - use different numbers and types of layers;\n",
    "- **activation functions** - try different activation functions;\n",
    "- **neurons per layer** - experiment with different numbers of neurons in each layer; and\n",
    "- **number of layers** - build networks with varying depths.\n",
    "\n",
    "After developing the models, evaluate and compare the performance of all **3** approaches.\n",
    "\n",
    "**About the Dataset**  \n",
    "This dataset focuses on air quality assessment across various regions. The dataset contains 5,000 samples and captures critical environmental and demographic factors that influence pollution levels.\n",
    "\n",
    "**Features**:  \n",
    "- **Temperature (°C)**: Average temperature of the region.  \n",
    "- **Humidity (%)**: Relative humidity recorded in the region.  \n",
    "- **PM2.5 Concentration (µg/m³)**: Levels of fine particulate matter.  \n",
    "- **PM10 Concentration (µg/m³)**: Levels of coarse particulate matter.  \n",
    "- **NO2 Concentration (ppb)**: Nitrogen dioxide levels.  \n",
    "- **SO2 Concentration (ppb)**: Sulfur dioxide levels.  \n",
    "- **CO Concentration (ppm)**: Carbon monoxide levels.  \n",
    "- **Proximity to Industrial Areas (km)**: Distance to the nearest industrial zone.  \n",
    "- **Population Density (people/km²)**: Number of people per square kilometer in the region.  \n",
    "\n",
    "**Target Variable**: **Air Quality**  \n",
    "- **Good**: Clean air with low pollution levels.  \n",
    "- **Moderate**: Acceptable air quality but with some pollutants present.  \n",
    "- **Poor**: Noticeable pollution that may cause health issues for sensitive groups.  \n",
    "- **Hazardous**: Highly polluted air posing serious health risks to the population.  "
   ]
  },
  {
   "cell_type": "code",
   "execution_count": 19,
   "metadata": {},
   "outputs": [],
   "source": [
    "import pandas as pd\n",
    "from keras.models import Sequential\n",
    "from keras.layers import Dense\n",
    "from sklearn.model_selection import train_test_split\n",
    "from sklearn.preprocessing import StandardScaler, LabelEncoder"
   ]
  },
  {
   "cell_type": "code",
   "execution_count": 4,
   "metadata": {},
   "outputs": [],
   "source": [
    "df = pd.read_csv('./pollution_dataset.csv')"
   ]
  },
  {
   "cell_type": "code",
   "execution_count": 5,
   "metadata": {},
   "outputs": [
    {
     "data": {
      "text/html": [
       "<div>\n",
       "<style scoped>\n",
       "    .dataframe tbody tr th:only-of-type {\n",
       "        vertical-align: middle;\n",
       "    }\n",
       "\n",
       "    .dataframe tbody tr th {\n",
       "        vertical-align: top;\n",
       "    }\n",
       "\n",
       "    .dataframe thead th {\n",
       "        text-align: right;\n",
       "    }\n",
       "</style>\n",
       "<table border=\"1\" class=\"dataframe\">\n",
       "  <thead>\n",
       "    <tr style=\"text-align: right;\">\n",
       "      <th></th>\n",
       "      <th>Temperature</th>\n",
       "      <th>Humidity</th>\n",
       "      <th>PM2.5</th>\n",
       "      <th>PM10</th>\n",
       "      <th>NO2</th>\n",
       "      <th>SO2</th>\n",
       "      <th>CO</th>\n",
       "      <th>Proximity_to_Industrial_Areas</th>\n",
       "      <th>Population_Density</th>\n",
       "      <th>Air Quality</th>\n",
       "    </tr>\n",
       "  </thead>\n",
       "  <tbody>\n",
       "    <tr>\n",
       "      <th>0</th>\n",
       "      <td>29.8</td>\n",
       "      <td>59.1</td>\n",
       "      <td>5.2</td>\n",
       "      <td>17.9</td>\n",
       "      <td>18.9</td>\n",
       "      <td>9.2</td>\n",
       "      <td>1.72</td>\n",
       "      <td>6.3</td>\n",
       "      <td>319</td>\n",
       "      <td>Moderate</td>\n",
       "    </tr>\n",
       "    <tr>\n",
       "      <th>1</th>\n",
       "      <td>28.3</td>\n",
       "      <td>75.6</td>\n",
       "      <td>2.3</td>\n",
       "      <td>12.2</td>\n",
       "      <td>30.8</td>\n",
       "      <td>9.7</td>\n",
       "      <td>1.64</td>\n",
       "      <td>6.0</td>\n",
       "      <td>611</td>\n",
       "      <td>Moderate</td>\n",
       "    </tr>\n",
       "    <tr>\n",
       "      <th>2</th>\n",
       "      <td>23.1</td>\n",
       "      <td>74.7</td>\n",
       "      <td>26.7</td>\n",
       "      <td>33.8</td>\n",
       "      <td>24.4</td>\n",
       "      <td>12.6</td>\n",
       "      <td>1.63</td>\n",
       "      <td>5.2</td>\n",
       "      <td>619</td>\n",
       "      <td>Moderate</td>\n",
       "    </tr>\n",
       "    <tr>\n",
       "      <th>3</th>\n",
       "      <td>27.1</td>\n",
       "      <td>39.1</td>\n",
       "      <td>6.1</td>\n",
       "      <td>6.3</td>\n",
       "      <td>13.5</td>\n",
       "      <td>5.3</td>\n",
       "      <td>1.15</td>\n",
       "      <td>11.1</td>\n",
       "      <td>551</td>\n",
       "      <td>Good</td>\n",
       "    </tr>\n",
       "    <tr>\n",
       "      <th>4</th>\n",
       "      <td>26.5</td>\n",
       "      <td>70.7</td>\n",
       "      <td>6.9</td>\n",
       "      <td>16.0</td>\n",
       "      <td>21.9</td>\n",
       "      <td>5.6</td>\n",
       "      <td>1.01</td>\n",
       "      <td>12.7</td>\n",
       "      <td>303</td>\n",
       "      <td>Good</td>\n",
       "    </tr>\n",
       "  </tbody>\n",
       "</table>\n",
       "</div>"
      ],
      "text/plain": [
       "   Temperature  Humidity  ...  Population_Density  Air Quality\n",
       "0         29.8      59.1  ...                 319     Moderate\n",
       "1         28.3      75.6  ...                 611     Moderate\n",
       "2         23.1      74.7  ...                 619     Moderate\n",
       "3         27.1      39.1  ...                 551         Good\n",
       "4         26.5      70.7  ...                 303         Good\n",
       "\n",
       "[5 rows x 10 columns]"
      ]
     },
     "execution_count": 5,
     "metadata": {},
     "output_type": "execute_result"
    }
   ],
   "source": [
    "df.head()"
   ]
  },
  {
   "cell_type": "code",
   "execution_count": 6,
   "metadata": {},
   "outputs": [
    {
     "data": {
      "text/plain": [
       "Air Quality\n",
       "Good         2000\n",
       "Moderate     1500\n",
       "Poor         1000\n",
       "Hazardous     500\n",
       "Name: count, dtype: int64"
      ]
     },
     "execution_count": 6,
     "metadata": {},
     "output_type": "execute_result"
    }
   ],
   "source": [
    "df['Air Quality'].value_counts()"
   ]
  },
  {
   "cell_type": "code",
   "execution_count": 7,
   "metadata": {},
   "outputs": [
    {
     "data": {
      "text/plain": [
       "Temperature                      0\n",
       "Humidity                         0\n",
       "PM2.5                            0\n",
       "PM10                             0\n",
       "NO2                              0\n",
       "SO2                              0\n",
       "CO                               0\n",
       "Proximity_to_Industrial_Areas    0\n",
       "Population_Density               0\n",
       "Air Quality                      0\n",
       "dtype: int64"
      ]
     },
     "execution_count": 7,
     "metadata": {},
     "output_type": "execute_result"
    }
   ],
   "source": [
    "df.isnull().sum()"
   ]
  },
  {
   "cell_type": "code",
   "execution_count": 20,
   "metadata": {},
   "outputs": [],
   "source": [
    "encoder = LabelEncoder()"
   ]
  },
  {
   "cell_type": "code",
   "execution_count": 21,
   "metadata": {},
   "outputs": [],
   "source": [
    "df['Air Quality'] = encoder.fit_transform(df['Air Quality'])"
   ]
  },
  {
   "cell_type": "code",
   "execution_count": 22,
   "metadata": {},
   "outputs": [
    {
     "data": {
      "text/html": [
       "<div>\n",
       "<style scoped>\n",
       "    .dataframe tbody tr th:only-of-type {\n",
       "        vertical-align: middle;\n",
       "    }\n",
       "\n",
       "    .dataframe tbody tr th {\n",
       "        vertical-align: top;\n",
       "    }\n",
       "\n",
       "    .dataframe thead th {\n",
       "        text-align: right;\n",
       "    }\n",
       "</style>\n",
       "<table border=\"1\" class=\"dataframe\">\n",
       "  <thead>\n",
       "    <tr style=\"text-align: right;\">\n",
       "      <th></th>\n",
       "      <th>Temperature</th>\n",
       "      <th>Humidity</th>\n",
       "      <th>PM2.5</th>\n",
       "      <th>PM10</th>\n",
       "      <th>NO2</th>\n",
       "      <th>SO2</th>\n",
       "      <th>CO</th>\n",
       "      <th>Proximity_to_Industrial_Areas</th>\n",
       "      <th>Population_Density</th>\n",
       "      <th>Air Quality</th>\n",
       "    </tr>\n",
       "  </thead>\n",
       "  <tbody>\n",
       "    <tr>\n",
       "      <th>0</th>\n",
       "      <td>29.8</td>\n",
       "      <td>59.1</td>\n",
       "      <td>5.2</td>\n",
       "      <td>17.9</td>\n",
       "      <td>18.9</td>\n",
       "      <td>9.2</td>\n",
       "      <td>1.72</td>\n",
       "      <td>6.3</td>\n",
       "      <td>319</td>\n",
       "      <td>2</td>\n",
       "    </tr>\n",
       "    <tr>\n",
       "      <th>1</th>\n",
       "      <td>28.3</td>\n",
       "      <td>75.6</td>\n",
       "      <td>2.3</td>\n",
       "      <td>12.2</td>\n",
       "      <td>30.8</td>\n",
       "      <td>9.7</td>\n",
       "      <td>1.64</td>\n",
       "      <td>6.0</td>\n",
       "      <td>611</td>\n",
       "      <td>2</td>\n",
       "    </tr>\n",
       "    <tr>\n",
       "      <th>2</th>\n",
       "      <td>23.1</td>\n",
       "      <td>74.7</td>\n",
       "      <td>26.7</td>\n",
       "      <td>33.8</td>\n",
       "      <td>24.4</td>\n",
       "      <td>12.6</td>\n",
       "      <td>1.63</td>\n",
       "      <td>5.2</td>\n",
       "      <td>619</td>\n",
       "      <td>2</td>\n",
       "    </tr>\n",
       "    <tr>\n",
       "      <th>3</th>\n",
       "      <td>27.1</td>\n",
       "      <td>39.1</td>\n",
       "      <td>6.1</td>\n",
       "      <td>6.3</td>\n",
       "      <td>13.5</td>\n",
       "      <td>5.3</td>\n",
       "      <td>1.15</td>\n",
       "      <td>11.1</td>\n",
       "      <td>551</td>\n",
       "      <td>0</td>\n",
       "    </tr>\n",
       "    <tr>\n",
       "      <th>4</th>\n",
       "      <td>26.5</td>\n",
       "      <td>70.7</td>\n",
       "      <td>6.9</td>\n",
       "      <td>16.0</td>\n",
       "      <td>21.9</td>\n",
       "      <td>5.6</td>\n",
       "      <td>1.01</td>\n",
       "      <td>12.7</td>\n",
       "      <td>303</td>\n",
       "      <td>0</td>\n",
       "    </tr>\n",
       "  </tbody>\n",
       "</table>\n",
       "</div>"
      ],
      "text/plain": [
       "   Temperature  Humidity  ...  Population_Density  Air Quality\n",
       "0         29.8      59.1  ...                 319            2\n",
       "1         28.3      75.6  ...                 611            2\n",
       "2         23.1      74.7  ...                 619            2\n",
       "3         27.1      39.1  ...                 551            0\n",
       "4         26.5      70.7  ...                 303            0\n",
       "\n",
       "[5 rows x 10 columns]"
      ]
     },
     "execution_count": 22,
     "metadata": {},
     "output_type": "execute_result"
    }
   ],
   "source": [
    "df.head()"
   ]
  },
  {
   "cell_type": "code",
   "execution_count": 23,
   "metadata": {},
   "outputs": [],
   "source": [
    "features = df.drop('Air Quality', axis=1)"
   ]
  },
  {
   "cell_type": "code",
   "execution_count": 24,
   "metadata": {},
   "outputs": [
    {
     "data": {
      "text/html": [
       "<div>\n",
       "<style scoped>\n",
       "    .dataframe tbody tr th:only-of-type {\n",
       "        vertical-align: middle;\n",
       "    }\n",
       "\n",
       "    .dataframe tbody tr th {\n",
       "        vertical-align: top;\n",
       "    }\n",
       "\n",
       "    .dataframe thead th {\n",
       "        text-align: right;\n",
       "    }\n",
       "</style>\n",
       "<table border=\"1\" class=\"dataframe\">\n",
       "  <thead>\n",
       "    <tr style=\"text-align: right;\">\n",
       "      <th></th>\n",
       "      <th>Temperature</th>\n",
       "      <th>Humidity</th>\n",
       "      <th>PM2.5</th>\n",
       "      <th>PM10</th>\n",
       "      <th>NO2</th>\n",
       "      <th>SO2</th>\n",
       "      <th>CO</th>\n",
       "      <th>Proximity_to_Industrial_Areas</th>\n",
       "      <th>Population_Density</th>\n",
       "    </tr>\n",
       "  </thead>\n",
       "  <tbody>\n",
       "    <tr>\n",
       "      <th>0</th>\n",
       "      <td>29.8</td>\n",
       "      <td>59.1</td>\n",
       "      <td>5.2</td>\n",
       "      <td>17.9</td>\n",
       "      <td>18.9</td>\n",
       "      <td>9.2</td>\n",
       "      <td>1.72</td>\n",
       "      <td>6.3</td>\n",
       "      <td>319</td>\n",
       "    </tr>\n",
       "    <tr>\n",
       "      <th>1</th>\n",
       "      <td>28.3</td>\n",
       "      <td>75.6</td>\n",
       "      <td>2.3</td>\n",
       "      <td>12.2</td>\n",
       "      <td>30.8</td>\n",
       "      <td>9.7</td>\n",
       "      <td>1.64</td>\n",
       "      <td>6.0</td>\n",
       "      <td>611</td>\n",
       "    </tr>\n",
       "    <tr>\n",
       "      <th>2</th>\n",
       "      <td>23.1</td>\n",
       "      <td>74.7</td>\n",
       "      <td>26.7</td>\n",
       "      <td>33.8</td>\n",
       "      <td>24.4</td>\n",
       "      <td>12.6</td>\n",
       "      <td>1.63</td>\n",
       "      <td>5.2</td>\n",
       "      <td>619</td>\n",
       "    </tr>\n",
       "    <tr>\n",
       "      <th>3</th>\n",
       "      <td>27.1</td>\n",
       "      <td>39.1</td>\n",
       "      <td>6.1</td>\n",
       "      <td>6.3</td>\n",
       "      <td>13.5</td>\n",
       "      <td>5.3</td>\n",
       "      <td>1.15</td>\n",
       "      <td>11.1</td>\n",
       "      <td>551</td>\n",
       "    </tr>\n",
       "    <tr>\n",
       "      <th>4</th>\n",
       "      <td>26.5</td>\n",
       "      <td>70.7</td>\n",
       "      <td>6.9</td>\n",
       "      <td>16.0</td>\n",
       "      <td>21.9</td>\n",
       "      <td>5.6</td>\n",
       "      <td>1.01</td>\n",
       "      <td>12.7</td>\n",
       "      <td>303</td>\n",
       "    </tr>\n",
       "    <tr>\n",
       "      <th>...</th>\n",
       "      <td>...</td>\n",
       "      <td>...</td>\n",
       "      <td>...</td>\n",
       "      <td>...</td>\n",
       "      <td>...</td>\n",
       "      <td>...</td>\n",
       "      <td>...</td>\n",
       "      <td>...</td>\n",
       "      <td>...</td>\n",
       "    </tr>\n",
       "    <tr>\n",
       "      <th>4995</th>\n",
       "      <td>40.6</td>\n",
       "      <td>74.1</td>\n",
       "      <td>116.0</td>\n",
       "      <td>126.7</td>\n",
       "      <td>45.5</td>\n",
       "      <td>25.7</td>\n",
       "      <td>2.11</td>\n",
       "      <td>2.8</td>\n",
       "      <td>765</td>\n",
       "    </tr>\n",
       "    <tr>\n",
       "      <th>4996</th>\n",
       "      <td>28.1</td>\n",
       "      <td>96.9</td>\n",
       "      <td>6.9</td>\n",
       "      <td>25.0</td>\n",
       "      <td>25.3</td>\n",
       "      <td>10.8</td>\n",
       "      <td>1.54</td>\n",
       "      <td>5.7</td>\n",
       "      <td>709</td>\n",
       "    </tr>\n",
       "    <tr>\n",
       "      <th>4997</th>\n",
       "      <td>25.9</td>\n",
       "      <td>78.2</td>\n",
       "      <td>14.2</td>\n",
       "      <td>22.1</td>\n",
       "      <td>34.8</td>\n",
       "      <td>7.8</td>\n",
       "      <td>1.63</td>\n",
       "      <td>9.6</td>\n",
       "      <td>379</td>\n",
       "    </tr>\n",
       "    <tr>\n",
       "      <th>4998</th>\n",
       "      <td>25.3</td>\n",
       "      <td>44.4</td>\n",
       "      <td>21.4</td>\n",
       "      <td>29.0</td>\n",
       "      <td>23.7</td>\n",
       "      <td>5.7</td>\n",
       "      <td>0.89</td>\n",
       "      <td>11.6</td>\n",
       "      <td>241</td>\n",
       "    </tr>\n",
       "    <tr>\n",
       "      <th>4999</th>\n",
       "      <td>24.1</td>\n",
       "      <td>77.9</td>\n",
       "      <td>81.7</td>\n",
       "      <td>94.3</td>\n",
       "      <td>23.2</td>\n",
       "      <td>10.5</td>\n",
       "      <td>1.38</td>\n",
       "      <td>8.3</td>\n",
       "      <td>461</td>\n",
       "    </tr>\n",
       "  </tbody>\n",
       "</table>\n",
       "<p>5000 rows × 9 columns</p>\n",
       "</div>"
      ],
      "text/plain": [
       "      Temperature  Humidity  ...  Proximity_to_Industrial_Areas  Population_Density\n",
       "0            29.8      59.1  ...                            6.3                 319\n",
       "1            28.3      75.6  ...                            6.0                 611\n",
       "2            23.1      74.7  ...                            5.2                 619\n",
       "3            27.1      39.1  ...                           11.1                 551\n",
       "4            26.5      70.7  ...                           12.7                 303\n",
       "...           ...       ...  ...                            ...                 ...\n",
       "4995         40.6      74.1  ...                            2.8                 765\n",
       "4996         28.1      96.9  ...                            5.7                 709\n",
       "4997         25.9      78.2  ...                            9.6                 379\n",
       "4998         25.3      44.4  ...                           11.6                 241\n",
       "4999         24.1      77.9  ...                            8.3                 461\n",
       "\n",
       "[5000 rows x 9 columns]"
      ]
     },
     "execution_count": 24,
     "metadata": {},
     "output_type": "execute_result"
    }
   ],
   "source": [
    "features"
   ]
  },
  {
   "cell_type": "code",
   "execution_count": 25,
   "metadata": {},
   "outputs": [],
   "source": [
    "target = df['Air Quality']"
   ]
  },
  {
   "cell_type": "code",
   "execution_count": 26,
   "metadata": {},
   "outputs": [
    {
     "data": {
      "text/plain": [
       "0       2\n",
       "1       2\n",
       "2       2\n",
       "3       0\n",
       "4       0\n",
       "       ..\n",
       "4995    1\n",
       "4996    2\n",
       "4997    2\n",
       "4998    0\n",
       "4999    2\n",
       "Name: Air Quality, Length: 5000, dtype: int32"
      ]
     },
     "execution_count": 26,
     "metadata": {},
     "output_type": "execute_result"
    }
   ],
   "source": [
    "target"
   ]
  },
  {
   "cell_type": "code",
   "execution_count": 123,
   "metadata": {},
   "outputs": [],
   "source": [
    "x_train, x_test, y_train, y_test = train_test_split(features, target, test_size=0.2)"
   ]
  },
  {
   "cell_type": "code",
   "execution_count": 124,
   "metadata": {},
   "outputs": [],
   "source": [
    "scaler = StandardScaler()"
   ]
  },
  {
   "cell_type": "code",
   "execution_count": 125,
   "metadata": {},
   "outputs": [],
   "source": [
    "x_train = scaler.fit_transform(x_train)\n",
    "x_test = scaler.transform(x_test)"
   ]
  },
  {
   "cell_type": "code",
   "execution_count": 101,
   "metadata": {},
   "outputs": [
    {
     "data": {
      "text/plain": [
       "array([[-1.37961906,  0.65819414, -0.51751803, ..., -0.89399498,\n",
       "        -0.80924977,  0.48780816],\n",
       "       [-1.63229926,  0.4487828 , -0.49714065, ..., -0.91217208,\n",
       "         1.47088808, -1.9496115 ],\n",
       "       [ 0.37427884,  1.20393281, -0.32189525, ...,  0.6874123 ,\n",
       "        -0.86419285,  1.23728212],\n",
       "       ...,\n",
       "       [ 0.15132572,  0.13149288, -0.75797103, ...,  0.36022458,\n",
       "        -0.91913593, -1.08282857],\n",
       "       [-0.19053574,  0.69626893, -0.09366867, ..., -0.14873408,\n",
       "         0.56432725, -0.95248527],\n",
       "       [ 2.57408298,  1.16585801,  3.45606968, ...,  2.1961112 ,\n",
       "        -0.06751818,  0.97659552]])"
      ]
     },
     "execution_count": 101,
     "metadata": {},
     "output_type": "execute_result"
    }
   ],
   "source": [
    "x_train"
   ]
  },
  {
   "cell_type": "code",
   "execution_count": 126,
   "metadata": {},
   "outputs": [
    {
     "data": {
      "text/plain": [
       "array([[ 1.8202474 ,  1.35579585, -0.80357901, ...,  1.19574161,\n",
       "        -0.70537789,  1.23735957],\n",
       "       [-1.67960997,  0.14120274, -0.46081569, ..., -1.19081246,\n",
       "         1.30039641,  0.01611547],\n",
       "       [-1.08134375, -0.21121806,  0.05740979, ...,  0.44305917,\n",
       "        -0.87252575, -0.98728508],\n",
       "       ...,\n",
       "       [-0.3933376 ,  0.80828497, -0.281273  , ..., -0.49320435,\n",
       "        -0.67751992,  0.28676957],\n",
       "       [-0.1241178 , -1.55796897, -0.39960796, ..., -1.0623057 ,\n",
       "         0.74323688, -1.82565265],\n",
       "       [-1.3655202 , -0.48812011, -0.51794291, ..., -0.98887327,\n",
       "         1.30039641, -1.32395238]])"
      ]
     },
     "execution_count": 126,
     "metadata": {},
     "output_type": "execute_result"
    }
   ],
   "source": [
    "x_test"
   ]
  },
  {
   "cell_type": "code",
   "execution_count": 127,
   "metadata": {},
   "outputs": [
    {
     "data": {
      "text/plain": [
       "1667    0\n",
       "2199    3\n",
       "4714    3\n",
       "2189    2\n",
       "3038    1\n",
       "       ..\n",
       "3265    0\n",
       "2263    2\n",
       "4526    3\n",
       "561     2\n",
       "3436    0\n",
       "Name: Air Quality, Length: 4000, dtype: int32"
      ]
     },
     "execution_count": 127,
     "metadata": {},
     "output_type": "execute_result"
    }
   ],
   "source": [
    "y_train"
   ]
  },
  {
   "cell_type": "code",
   "execution_count": 141,
   "metadata": {},
   "outputs": [],
   "source": [
    "def make_model(x_train, activation_functions, neurons, kernel_initializer):\n",
    "    model = Sequential()\n",
    "    for i, (a, n, k) in enumerate(zip(activation_functions, neurons, kernel_initializer)):\n",
    "        if i == 0:\n",
    "            model.add(Dense(n, input_dim=x_train.shape[1], kernel_initializer=k, activation=a))\n",
    "        else:\n",
    "            model.add(Dense(n, kernel_initializer=k, activation=a))\n",
    "    model.add(Dense(4, activation='softmax', kernel_initializer='uniform'))\n",
    "    model.compile(loss='sparse_categorical_crossentropy', optimizer='adam', metrics=['accuracy'])\n",
    "    return model\n"
   ]
  },
  {
   "cell_type": "code",
   "execution_count": 142,
   "metadata": {},
   "outputs": [],
   "source": [
    "model1 = make_model(\n",
    "    x_train=x_train,\n",
    "    activation_functions=['relu', 'relu'], \n",
    "    neurons=[32, 16], \n",
    "    kernel_initializer=['uniform', 'uniform'])"
   ]
  },
  {
   "cell_type": "code",
   "execution_count": 143,
   "metadata": {},
   "outputs": [],
   "source": [
    "model2 = make_model(\n",
    "    x_train=x_train,\n",
    "    activation_functions=['relu', 'relu', 'relu'],\n",
    "    neurons=[64, 32, 16],\n",
    "    kernel_initializer=['uniform', 'uniform', 'uniform']\n",
    ")"
   ]
  },
  {
   "cell_type": "code",
   "execution_count": 144,
   "metadata": {},
   "outputs": [],
   "source": [
    "model3 = make_model(\n",
    "    x_train=x_train,\n",
    "    activation_functions=['relu', 'relu', 'relu', 'relu'],\n",
    "    neurons=[128, 64, 32, 16],\n",
    "    kernel_initializer=['uniform', 'uniform', 'uniform', 'uniform']\n",
    ")"
   ]
  },
  {
   "cell_type": "code",
   "execution_count": 151,
   "metadata": {},
   "outputs": [
    {
     "name": "stdout",
     "output_type": "stream",
     "text": [
      "Epoch 1/30\n",
      "113/113 - 1s - 10ms/step - accuracy: 0.9469 - loss: 0.1335 - val_accuracy: 0.9275 - val_loss: 0.2407\n",
      "Epoch 2/30\n",
      "113/113 - 1s - 9ms/step - accuracy: 0.9483 - loss: 0.1312 - val_accuracy: 0.9200 - val_loss: 0.2273\n",
      "Epoch 3/30\n",
      "113/113 - 1s - 11ms/step - accuracy: 0.9497 - loss: 0.1316 - val_accuracy: 0.9250 - val_loss: 0.2233\n",
      "Epoch 4/30\n",
      "113/113 - 1s - 8ms/step - accuracy: 0.9486 - loss: 0.1306 - val_accuracy: 0.9300 - val_loss: 0.2287\n",
      "Epoch 5/30\n",
      "113/113 - 1s - 10ms/step - accuracy: 0.9478 - loss: 0.1301 - val_accuracy: 0.9325 - val_loss: 0.2211\n",
      "Epoch 6/30\n",
      "113/113 - 1s - 7ms/step - accuracy: 0.9469 - loss: 0.1289 - val_accuracy: 0.9275 - val_loss: 0.2230\n",
      "Epoch 7/30\n",
      "113/113 - 1s - 6ms/step - accuracy: 0.9481 - loss: 0.1288 - val_accuracy: 0.9275 - val_loss: 0.2242\n",
      "Epoch 8/30\n",
      "113/113 - 1s - 9ms/step - accuracy: 0.9483 - loss: 0.1287 - val_accuracy: 0.9250 - val_loss: 0.2269\n",
      "Epoch 9/30\n",
      "113/113 - 1s - 9ms/step - accuracy: 0.9500 - loss: 0.1288 - val_accuracy: 0.9275 - val_loss: 0.2256\n",
      "Epoch 10/30\n",
      "113/113 - 1s - 8ms/step - accuracy: 0.9497 - loss: 0.1283 - val_accuracy: 0.9275 - val_loss: 0.2390\n",
      "Epoch 11/30\n",
      "113/113 - 1s - 7ms/step - accuracy: 0.9503 - loss: 0.1271 - val_accuracy: 0.9200 - val_loss: 0.2296\n",
      "Epoch 12/30\n",
      "113/113 - 1s - 9ms/step - accuracy: 0.9511 - loss: 0.1271 - val_accuracy: 0.9250 - val_loss: 0.2256\n",
      "Epoch 13/30\n",
      "113/113 - 1s - 7ms/step - accuracy: 0.9492 - loss: 0.1259 - val_accuracy: 0.9225 - val_loss: 0.2216\n",
      "Epoch 14/30\n",
      "113/113 - 1s - 6ms/step - accuracy: 0.9503 - loss: 0.1253 - val_accuracy: 0.9225 - val_loss: 0.2249\n",
      "Epoch 15/30\n",
      "113/113 - 1s - 9ms/step - accuracy: 0.9497 - loss: 0.1263 - val_accuracy: 0.9225 - val_loss: 0.2223\n",
      "Epoch 16/30\n",
      "113/113 - 1s - 10ms/step - accuracy: 0.9519 - loss: 0.1259 - val_accuracy: 0.9250 - val_loss: 0.2294\n",
      "Epoch 17/30\n",
      "113/113 - 1s - 7ms/step - accuracy: 0.9503 - loss: 0.1244 - val_accuracy: 0.9250 - val_loss: 0.2288\n",
      "Epoch 18/30\n",
      "113/113 - 1s - 6ms/step - accuracy: 0.9508 - loss: 0.1255 - val_accuracy: 0.9225 - val_loss: 0.2283\n",
      "Epoch 19/30\n",
      "113/113 - 1s - 7ms/step - accuracy: 0.9511 - loss: 0.1239 - val_accuracy: 0.9275 - val_loss: 0.2236\n",
      "Epoch 20/30\n",
      "113/113 - 1s - 9ms/step - accuracy: 0.9514 - loss: 0.1232 - val_accuracy: 0.9250 - val_loss: 0.2282\n",
      "Epoch 21/30\n",
      "113/113 - 1s - 9ms/step - accuracy: 0.9489 - loss: 0.1245 - val_accuracy: 0.9225 - val_loss: 0.2239\n",
      "Epoch 22/30\n",
      "113/113 - 1s - 7ms/step - accuracy: 0.9506 - loss: 0.1223 - val_accuracy: 0.9225 - val_loss: 0.2296\n",
      "Epoch 23/30\n",
      "113/113 - 1s - 9ms/step - accuracy: 0.9528 - loss: 0.1216 - val_accuracy: 0.9250 - val_loss: 0.2262\n",
      "Epoch 24/30\n",
      "113/113 - 1s - 7ms/step - accuracy: 0.9517 - loss: 0.1226 - val_accuracy: 0.9275 - val_loss: 0.2304\n",
      "Epoch 25/30\n",
      "113/113 - 1s - 8ms/step - accuracy: 0.9519 - loss: 0.1220 - val_accuracy: 0.9250 - val_loss: 0.2258\n",
      "Epoch 26/30\n",
      "113/113 - 1s - 9ms/step - accuracy: 0.9536 - loss: 0.1194 - val_accuracy: 0.9225 - val_loss: 0.2365\n",
      "Epoch 27/30\n",
      "113/113 - 1s - 7ms/step - accuracy: 0.9531 - loss: 0.1197 - val_accuracy: 0.9225 - val_loss: 0.2376\n",
      "Epoch 28/30\n",
      "113/113 - 1s - 9ms/step - accuracy: 0.9519 - loss: 0.1199 - val_accuracy: 0.9225 - val_loss: 0.2240\n",
      "Epoch 29/30\n",
      "113/113 - 1s - 7ms/step - accuracy: 0.9517 - loss: 0.1194 - val_accuracy: 0.9225 - val_loss: 0.2278\n",
      "Epoch 30/30\n",
      "113/113 - 1s - 8ms/step - accuracy: 0.9522 - loss: 0.1178 - val_accuracy: 0.9200 - val_loss: 0.2261\n"
     ]
    },
    {
     "data": {
      "text/plain": [
       "<keras.src.callbacks.history.History at 0x157d83a5cf0>"
      ]
     },
     "execution_count": 151,
     "metadata": {},
     "output_type": "execute_result"
    }
   ],
   "source": [
    "model1.fit(x_train, y_train, epochs=30, batch_size=32, verbose=2, validation_split=0.1)"
   ]
  },
  {
   "cell_type": "code",
   "execution_count": null,
   "metadata": {},
   "outputs": [
    {
     "name": "stdout",
     "output_type": "stream",
     "text": [
      "Epoch 1/30\n",
      "100/100 - 5s - 45ms/step - accuracy: 0.5403 - loss: 1.0953 - val_accuracy: 0.6762 - val_loss: 0.6796\n",
      "Epoch 2/30\n",
      "100/100 - 1s - 10ms/step - accuracy: 0.8141 - loss: 0.5074 - val_accuracy: 0.8338 - val_loss: 0.3491\n",
      "Epoch 3/30\n",
      "100/100 - 1s - 9ms/step - accuracy: 0.9056 - loss: 0.2748 - val_accuracy: 0.9075 - val_loss: 0.2249\n",
      "Epoch 4/30\n",
      "100/100 - 1s - 7ms/step - accuracy: 0.9325 - loss: 0.1996 - val_accuracy: 0.9212 - val_loss: 0.2004\n",
      "Epoch 5/30\n",
      "100/100 - 1s - 7ms/step - accuracy: 0.9416 - loss: 0.1666 - val_accuracy: 0.9275 - val_loss: 0.1951\n",
      "Epoch 6/30\n",
      "100/100 - 1s - 8ms/step - accuracy: 0.9434 - loss: 0.1534 - val_accuracy: 0.9300 - val_loss: 0.1841\n",
      "Epoch 7/30\n",
      "100/100 - 1s - 7ms/step - accuracy: 0.9456 - loss: 0.1482 - val_accuracy: 0.9350 - val_loss: 0.1835\n",
      "Epoch 8/30\n",
      "100/100 - 1s - 9ms/step - accuracy: 0.9438 - loss: 0.1484 - val_accuracy: 0.9325 - val_loss: 0.1810\n",
      "Epoch 9/30\n",
      "100/100 - 1s - 8ms/step - accuracy: 0.9497 - loss: 0.1426 - val_accuracy: 0.9312 - val_loss: 0.1824\n",
      "Epoch 10/30\n",
      "100/100 - 1s - 7ms/step - accuracy: 0.9450 - loss: 0.1447 - val_accuracy: 0.9325 - val_loss: 0.1787\n",
      "Epoch 11/30\n",
      "100/100 - 1s - 9ms/step - accuracy: 0.9453 - loss: 0.1431 - val_accuracy: 0.9312 - val_loss: 0.1719\n",
      "Epoch 12/30\n",
      "100/100 - 1s - 8ms/step - accuracy: 0.9463 - loss: 0.1406 - val_accuracy: 0.9350 - val_loss: 0.1831\n",
      "Epoch 13/30\n",
      "100/100 - 1s - 10ms/step - accuracy: 0.9484 - loss: 0.1359 - val_accuracy: 0.9337 - val_loss: 0.1725\n",
      "Epoch 14/30\n",
      "100/100 - 1s - 10ms/step - accuracy: 0.9503 - loss: 0.1353 - val_accuracy: 0.9362 - val_loss: 0.1856\n",
      "Epoch 15/30\n",
      "100/100 - 1s - 8ms/step - accuracy: 0.9481 - loss: 0.1364 - val_accuracy: 0.9262 - val_loss: 0.1790\n",
      "Epoch 16/30\n",
      "100/100 - 1s - 8ms/step - accuracy: 0.9491 - loss: 0.1347 - val_accuracy: 0.9325 - val_loss: 0.1910\n",
      "Epoch 17/30\n",
      "100/100 - 1s - 8ms/step - accuracy: 0.9481 - loss: 0.1323 - val_accuracy: 0.9312 - val_loss: 0.1764\n",
      "Epoch 18/30\n",
      "100/100 - 1s - 7ms/step - accuracy: 0.9491 - loss: 0.1342 - val_accuracy: 0.9312 - val_loss: 0.1855\n",
      "Epoch 19/30\n",
      "100/100 - 1s - 8ms/step - accuracy: 0.9506 - loss: 0.1334 - val_accuracy: 0.9262 - val_loss: 0.2038\n",
      "Epoch 20/30\n",
      "100/100 - 1s - 8ms/step - accuracy: 0.9478 - loss: 0.1329 - val_accuracy: 0.9350 - val_loss: 0.1727\n",
      "Epoch 21/30\n",
      "100/100 - 1s - 8ms/step - accuracy: 0.9475 - loss: 0.1347 - val_accuracy: 0.9388 - val_loss: 0.1718\n",
      "Epoch 22/30\n",
      "100/100 - 1s - 7ms/step - accuracy: 0.9509 - loss: 0.1311 - val_accuracy: 0.9325 - val_loss: 0.1843\n",
      "Epoch 23/30\n",
      "100/100 - 1s - 8ms/step - accuracy: 0.9488 - loss: 0.1317 - val_accuracy: 0.9275 - val_loss: 0.2022\n",
      "Epoch 24/30\n",
      "100/100 - 1s - 9ms/step - accuracy: 0.9528 - loss: 0.1289 - val_accuracy: 0.9337 - val_loss: 0.1913\n",
      "Epoch 25/30\n",
      "100/100 - 1s - 8ms/step - accuracy: 0.9509 - loss: 0.1300 - val_accuracy: 0.9300 - val_loss: 0.1756\n",
      "Epoch 26/30\n",
      "100/100 - 1s - 9ms/step - accuracy: 0.9519 - loss: 0.1284 - val_accuracy: 0.9325 - val_loss: 0.1767\n",
      "Epoch 27/30\n",
      "100/100 - 1s - 9ms/step - accuracy: 0.9519 - loss: 0.1264 - val_accuracy: 0.9350 - val_loss: 0.1690\n",
      "Epoch 28/30\n",
      "100/100 - 1s - 8ms/step - accuracy: 0.9497 - loss: 0.1271 - val_accuracy: 0.9375 - val_loss: 0.1695\n",
      "Epoch 29/30\n",
      "100/100 - 1s - 7ms/step - accuracy: 0.9491 - loss: 0.1266 - val_accuracy: 0.9350 - val_loss: 0.1714\n",
      "Epoch 30/30\n",
      "100/100 - 1s - 10ms/step - accuracy: 0.9516 - loss: 0.1264 - val_accuracy: 0.9325 - val_loss: 0.1716\n"
     ]
    },
    {
     "data": {
      "text/plain": [
       "<keras.src.callbacks.history.History at 0x157d83a5f90>"
      ]
     },
     "execution_count": 146,
     "metadata": {},
     "output_type": "execute_result"
    }
   ],
   "source": [
    "model2.fit(x_train, y_train, epochs=30, batch_size=32, verbose=2, validation_split=0.1)"
   ]
  },
  {
   "cell_type": "code",
   "execution_count": 157,
   "metadata": {},
   "outputs": [
    {
     "name": "stdout",
     "output_type": "stream",
     "text": [
      "Epoch 1/30\n",
      "113/113 - 1s - 10ms/step - accuracy: 0.9739 - loss: 0.0710 - val_accuracy: 0.9400 - val_loss: 0.2082\n",
      "Epoch 2/30\n",
      "113/113 - 1s - 9ms/step - accuracy: 0.9697 - loss: 0.0781 - val_accuracy: 0.9425 - val_loss: 0.1883\n",
      "Epoch 3/30\n",
      "113/113 - 1s - 9ms/step - accuracy: 0.9722 - loss: 0.0754 - val_accuracy: 0.9425 - val_loss: 0.1895\n",
      "Epoch 4/30\n",
      "113/113 - 1s - 9ms/step - accuracy: 0.9750 - loss: 0.0728 - val_accuracy: 0.9375 - val_loss: 0.2086\n",
      "Epoch 5/30\n",
      "113/113 - 1s - 7ms/step - accuracy: 0.9700 - loss: 0.0806 - val_accuracy: 0.9325 - val_loss: 0.2315\n",
      "Epoch 6/30\n",
      "113/113 - 1s - 12ms/step - accuracy: 0.9747 - loss: 0.0688 - val_accuracy: 0.9375 - val_loss: 0.2469\n",
      "Epoch 7/30\n",
      "113/113 - 1s - 8ms/step - accuracy: 0.9725 - loss: 0.0718 - val_accuracy: 0.9300 - val_loss: 0.2090\n",
      "Epoch 8/30\n",
      "113/113 - 1s - 10ms/step - accuracy: 0.9758 - loss: 0.0670 - val_accuracy: 0.9475 - val_loss: 0.1847\n",
      "Epoch 9/30\n",
      "113/113 - 1s - 10ms/step - accuracy: 0.9767 - loss: 0.0666 - val_accuracy: 0.9400 - val_loss: 0.1962\n",
      "Epoch 10/30\n",
      "113/113 - 1s - 7ms/step - accuracy: 0.9767 - loss: 0.0668 - val_accuracy: 0.9425 - val_loss: 0.2021\n",
      "Epoch 11/30\n",
      "113/113 - 1s - 10ms/step - accuracy: 0.9736 - loss: 0.0683 - val_accuracy: 0.9425 - val_loss: 0.2057\n",
      "Epoch 12/30\n",
      "113/113 - 1s - 8ms/step - accuracy: 0.9767 - loss: 0.0671 - val_accuracy: 0.9425 - val_loss: 0.2040\n",
      "Epoch 13/30\n",
      "113/113 - 1s - 8ms/step - accuracy: 0.9761 - loss: 0.0638 - val_accuracy: 0.9450 - val_loss: 0.2272\n",
      "Epoch 14/30\n",
      "113/113 - 1s - 13ms/step - accuracy: 0.9753 - loss: 0.0675 - val_accuracy: 0.9425 - val_loss: 0.2046\n",
      "Epoch 15/30\n",
      "113/113 - 1s - 9ms/step - accuracy: 0.9700 - loss: 0.0799 - val_accuracy: 0.9400 - val_loss: 0.2105\n",
      "Epoch 16/30\n",
      "113/113 - 1s - 6ms/step - accuracy: 0.9781 - loss: 0.0694 - val_accuracy: 0.9375 - val_loss: 0.2238\n",
      "Epoch 17/30\n",
      "113/113 - 1s - 7ms/step - accuracy: 0.9753 - loss: 0.0667 - val_accuracy: 0.9425 - val_loss: 0.2179\n",
      "Epoch 18/30\n",
      "113/113 - 1s - 9ms/step - accuracy: 0.9789 - loss: 0.0609 - val_accuracy: 0.9350 - val_loss: 0.2211\n",
      "Epoch 19/30\n",
      "113/113 - 1s - 12ms/step - accuracy: 0.9772 - loss: 0.0610 - val_accuracy: 0.9500 - val_loss: 0.2025\n",
      "Epoch 20/30\n",
      "113/113 - 1s - 7ms/step - accuracy: 0.9806 - loss: 0.0587 - val_accuracy: 0.9375 - val_loss: 0.2077\n",
      "Epoch 21/30\n",
      "113/113 - 1s - 10ms/step - accuracy: 0.9775 - loss: 0.0618 - val_accuracy: 0.9350 - val_loss: 0.2237\n",
      "Epoch 22/30\n",
      "113/113 - 1s - 6ms/step - accuracy: 0.9756 - loss: 0.0686 - val_accuracy: 0.9425 - val_loss: 0.2425\n",
      "Epoch 23/30\n",
      "113/113 - 1s - 8ms/step - accuracy: 0.9772 - loss: 0.0641 - val_accuracy: 0.9375 - val_loss: 0.2070\n",
      "Epoch 24/30\n",
      "113/113 - 1s - 10ms/step - accuracy: 0.9797 - loss: 0.0584 - val_accuracy: 0.9425 - val_loss: 0.2241\n",
      "Epoch 25/30\n",
      "113/113 - 1s - 10ms/step - accuracy: 0.9758 - loss: 0.0671 - val_accuracy: 0.9450 - val_loss: 0.2105\n",
      "Epoch 26/30\n",
      "113/113 - 1s - 8ms/step - accuracy: 0.9753 - loss: 0.0644 - val_accuracy: 0.9400 - val_loss: 0.2008\n",
      "Epoch 27/30\n",
      "113/113 - 1s - 9ms/step - accuracy: 0.9789 - loss: 0.0592 - val_accuracy: 0.9450 - val_loss: 0.2066\n",
      "Epoch 28/30\n",
      "113/113 - 1s - 7ms/step - accuracy: 0.9769 - loss: 0.0597 - val_accuracy: 0.9150 - val_loss: 0.3174\n",
      "Epoch 29/30\n",
      "113/113 - 1s - 10ms/step - accuracy: 0.9722 - loss: 0.0882 - val_accuracy: 0.9425 - val_loss: 0.2234\n",
      "Epoch 30/30\n",
      "113/113 - 1s - 11ms/step - accuracy: 0.9772 - loss: 0.0611 - val_accuracy: 0.9450 - val_loss: 0.2282\n"
     ]
    },
    {
     "data": {
      "text/plain": [
       "<keras.src.callbacks.history.History at 0x157ddc77760>"
      ]
     },
     "execution_count": 157,
     "metadata": {},
     "output_type": "execute_result"
    }
   ],
   "source": [
    "model3.fit(x_train, y_train, epochs=30, batch_size=32, verbose=2, validation_split=0.1)"
   ]
  },
  {
   "cell_type": "code",
   "execution_count": 158,
   "metadata": {},
   "outputs": [
    {
     "name": "stdout",
     "output_type": "stream",
     "text": [
      "Evaluating Model 1:\n",
      "Loss: 0.1530, Accuracy: 0.9370\n",
      "\n",
      "Evaluating Model 2:\n",
      "Loss: 0.1517, Accuracy: 0.9350\n",
      "\n",
      "Evaluating Model 3:\n",
      "Loss: 0.1694, Accuracy: 0.9420\n",
      "\n"
     ]
    }
   ],
   "source": [
    "for i, model in enumerate([model1, model2, model3], 1):\n",
    "    print(f\"Evaluating Model {i}:\")\n",
    "    loss, accuracy = model.evaluate(x_test, y_test, verbose=0)\n",
    "    print(f\"Loss: {loss:.4f}, Accuracy: {accuracy:.4f}\\n\")\n"
   ]
  },
  {
   "cell_type": "code",
   "execution_count": null,
   "metadata": {},
   "outputs": [],
   "source": []
  }
 ],
 "metadata": {
  "colab": {
   "provenance": []
  },
  "kernelspec": {
   "display_name": "Python 3",
   "name": "python3"
  },
  "language_info": {
   "codemirror_mode": {
    "name": "ipython",
    "version": 3
   },
   "file_extension": ".py",
   "mimetype": "text/x-python",
   "name": "python",
   "nbconvert_exporter": "python",
   "pygments_lexer": "ipython3",
   "version": "3.10.9"
  }
 },
 "nbformat": 4,
 "nbformat_minor": 0
}