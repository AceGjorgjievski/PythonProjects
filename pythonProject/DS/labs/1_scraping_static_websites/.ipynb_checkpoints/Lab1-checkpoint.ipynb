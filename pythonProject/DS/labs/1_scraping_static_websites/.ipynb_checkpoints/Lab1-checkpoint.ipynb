{
  "nbformat": 4,
  "nbformat_minor": 0,
  "metadata": {
    "colab": {
      "provenance": []
    },
    "kernelspec": {
      "name": "python3",
      "display_name": "Python 3"
    },
    "language_info": {
      "name": "python"
    }
  },
  "cells": [
    {
      "cell_type": "markdown",
      "source": [
        "# Lab Exercise 1. Scraping Static Websites\n"
      ],
      "metadata": {
        "id": "skreU4ZawqQ_"
      }
    },
    {
      "cell_type": "markdown",
      "source": [
        "This is the warmup task for the first laboratory exercise. It consists of scraping static Websites with BeautifulSoap.\n",
        "\n",
        " It should be completed at home and presented at the laboratory."
      ],
      "metadata": {
        "id": "VzAWoqz5wwT9"
      }
    },
    {
      "cell_type": "markdown",
      "source": [
        "**Total points: 2**"
      ],
      "metadata": {
        "id": "qpdvbrsow5EE"
      }
    },
    {
      "cell_type": "markdown",
      "source": [
        "### Task Description"
      ],
      "metadata": {
        "id": "6eDmGLrXx0t8"
      }
    },
    {
      "cell_type": "markdown",
      "source": [
        "Scrape the information about the products on the following page:\n",
        "https://clevershop.mk/product-category/mobilni-laptopi-i-tableti/"
      ],
      "metadata": {
        "id": "RG42MHsDxAP_"
      }
    },
    {
      "cell_type": "markdown",
      "source": [
        "For each product scrape:\n",
        "\n",
        "\n",
        "*   Product title (selector `'.wd-entities-title'`)\n",
        "*   Product regular price (selector `'.woocommerce-Price-amount'`)\n",
        "*   Product discount price (if available), same selector as regular price\n",
        "*   URL to the product page\n",
        "*   Add to cart button URL\n",
        "\n",
        "***Help: There are multiple product pages, for each page you need to send a separate request***\n"
      ],
      "metadata": {
        "id": "uoTcMRl4xP3G"
      }
    },
    {
      "cell_type": "markdown",
      "source": [
        "Save the results as a DataFrame object"
      ],
      "metadata": {
        "id": "tc0QvUR8xxwt"
      }
    },
    {
      "cell_type": "markdown",
      "source": [
        "You can add as many code cells as you need."
      ],
      "metadata": {
        "id": "peGjiUZLzbZt"
      }
    },
    {
      "cell_type": "markdown",
      "source": [
        "________________________________________________________________"
      ],
      "metadata": {
        "id": "b7U-kwKSzUIV"
      }
    },
    {
      "cell_type": "markdown",
      "source": [
        "### Requirements"
      ],
      "metadata": {
        "id": "yn5gyMzNx5Vk"
      }
    },
    {
      "cell_type": "markdown",
      "source": [
        "Import libraries and modules that you are going to use"
      ],
      "metadata": {
        "id": "WZ3ifNLhx7tk"
      }
    },
    {
      "cell_type": "code",
      "source": [],
      "metadata": {
        "id": "GQ3zSO8WyJC_"
      },
      "execution_count": null,
      "outputs": []
    },
    {
      "cell_type": "markdown",
      "source": [
        "### Send HTTP request to the target Website"
      ],
      "metadata": {
        "id": "fsR71mugyJP7"
      }
    },
    {
      "cell_type": "code",
      "source": [],
      "metadata": {
        "id": "61ImGen2yQff"
      },
      "execution_count": null,
      "outputs": []
    },
    {
      "cell_type": "markdown",
      "source": [
        "check the response status code"
      ],
      "metadata": {
        "id": "lFnRsSVJyXit"
      }
    },
    {
      "cell_type": "code",
      "source": [],
      "metadata": {
        "id": "xy6xJ3RGyXUN"
      },
      "execution_count": null,
      "outputs": []
    },
    {
      "cell_type": "markdown",
      "source": [
        "### Parse the response content with BeautifulSoap"
      ],
      "metadata": {
        "id": "-MykzAV4yQ4j"
      }
    },
    {
      "cell_type": "code",
      "source": [],
      "metadata": {
        "id": "F92A3wvlyUBc"
      },
      "execution_count": null,
      "outputs": []
    },
    {
      "cell_type": "markdown",
      "source": [
        "### Extract data from the BeautifulSoap object using any selectors, attribute identifiers, etc."
      ],
      "metadata": {
        "id": "F8hifMvVycfV"
      }
    },
    {
      "cell_type": "markdown",
      "source": [
        "* Product title (selector '.wd-entities-title')\n",
        "* Product regular price (selector '.woocommerce-Price-amount')\n",
        "* Product discount price (if available), same selector as regular price\n",
        "* URL to the product page\n",
        "* Add to cart button URL"
      ],
      "metadata": {
        "id": "sHgfHr61y2tD"
      }
    },
    {
      "cell_type": "code",
      "source": [],
      "metadata": {
        "id": "UV1kZCRyycQF"
      },
      "execution_count": null,
      "outputs": []
    },
    {
      "cell_type": "markdown",
      "source": [
        "Repeat the extraction process for each page of products"
      ],
      "metadata": {
        "id": "gToy7d5Jy9Qk"
      }
    },
    {
      "cell_type": "code",
      "source": [],
      "metadata": {
        "id": "rVdYuEv3zArs"
      },
      "execution_count": null,
      "outputs": []
    },
    {
      "cell_type": "markdown",
      "source": [
        "### Create a pandas DataFrame with the scraped products"
      ],
      "metadata": {
        "id": "R4OIUt0AynuU"
      }
    },
    {
      "cell_type": "code",
      "source": [],
      "metadata": {
        "id": "-wCzGEj8yrKU"
      },
      "execution_count": null,
      "outputs": []
    },
    {
      "cell_type": "markdown",
      "source": [
        "Save the dataframe as `.csv`"
      ],
      "metadata": {
        "id": "Rxbi54EOyrb8"
      }
    },
    {
      "cell_type": "code",
      "source": [],
      "metadata": {
        "id": "TLNfZQ07yuQE"
      },
      "execution_count": null,
      "outputs": []
    }
  ]
}