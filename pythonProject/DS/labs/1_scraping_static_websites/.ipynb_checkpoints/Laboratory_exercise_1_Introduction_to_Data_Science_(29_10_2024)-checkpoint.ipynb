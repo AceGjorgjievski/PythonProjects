{
  "nbformat": 4,
  "nbformat_minor": 0,
  "metadata": {
    "colab": {
      "provenance": []
    },
    "kernelspec": {
      "name": "python3",
      "display_name": "Python 3"
    },
    "language_info": {
      "name": "python"
    }
  },
  "cells": [
    {
      "cell_type": "markdown",
      "source": [
        "# Requirements"
      ],
      "metadata": {
        "id": "IG0xXF7T0x2h"
      }
    },
    {
      "cell_type": "code",
      "source": [
        "from selenium import webdriver\n",
        "from selenium.webdriver.common.by import By\n",
        "import pandas as pd"
      ],
      "metadata": {
        "id": "k75Qsxvc0zzZ"
      },
      "execution_count": null,
      "outputs": []
    },
    {
      "cell_type": "markdown",
      "source": [
        "# Configuration"
      ],
      "metadata": {
        "id": "OqXF3IZU00_g"
      }
    },
    {
      "cell_type": "code",
      "source": [
        "options = webdriver.ChromeOptions()\n",
        "options.add_argument('--headless')\n",
        "options.add_argument('--no-sandbox')\n",
        "options.add_argument('--disable-dev-shm-usage')"
      ],
      "metadata": {
        "id": "2MLM03DJ02TK"
      },
      "execution_count": null,
      "outputs": []
    },
    {
      "cell_type": "markdown",
      "source": [
        "# Simple Usage"
      ],
      "metadata": {
        "id": "vhsS7FZU03uf"
      }
    },
    {
      "cell_type": "code",
      "source": [
        "# Initialize the webdriver.\n",
        "browser = webdriver.Chrome(options=options)"
      ],
      "metadata": {
        "id": "XAR-vEvw03hB"
      },
      "execution_count": null,
      "outputs": []
    },
    {
      "cell_type": "code",
      "source": [
        "# Navigate to a web page.\n",
        "browser.get('https://www.apple.com/mk/')"
      ],
      "metadata": {
        "id": "SRlMjKmz05uN"
      },
      "execution_count": null,
      "outputs": []
    },
    {
      "cell_type": "code",
      "source": [
        "# Print the page source code.\n",
        "print(browser.page_source)"
      ],
      "metadata": {
        "id": "XENkqBtc07ql"
      },
      "execution_count": null,
      "outputs": []
    },
    {
      "cell_type": "code",
      "source": [
        "# Select an element from the page.\n",
        "element = browser.find_element(By.CLASS_NAME, 'headline')"
      ],
      "metadata": {
        "id": "j2IK2Ka408sg"
      },
      "execution_count": null,
      "outputs": []
    },
    {
      "cell_type": "code",
      "source": [
        "# Print the element's innner text.\n",
        "print(element.text)"
      ],
      "metadata": {
        "id": "ErxN591d09ul"
      },
      "execution_count": null,
      "outputs": []
    },
    {
      "cell_type": "markdown",
      "source": [
        "# Laboratory Exercise - Run Mode (8 points)"
      ],
      "metadata": {
        "id": "M9CVMKMx0-SY"
      }
    },
    {
      "cell_type": "markdown",
      "source": [
        "In this laboratory assignment, the goal is to perform web scraping using **Selenium** on the website https://www.scrapethissite.com/pages/forms/. The task includes the extraction of **hockey team names** and their **wins** and **losses** in the respective **year** for a minimum of 25 hockey teams. Following this data extraction, you will construct a data frame to organize the collected data. Finally, you are expected to generate a histogram to provide a visual representation of the distribution of wins and losses in the year 1990."
      ],
      "metadata": {
        "id": "dGHA83FS1Lqk"
      }
    },
    {
      "cell_type": "markdown",
      "source": [
        "## Hints\n",
        "- To navigate to a specific page with a given URL, use the `browser.get(url)` method.\n",
        "- When selecting a single element, use `browser.find_element`, and for multiple elements, use `browser.find_elements`. Both of these functions take two arguments. The first specifies the attribute used to locate the element on the web page, and the second specifies the value of that attribute.\n",
        "- The `By` class is used to specify which attribute is used to locate elements on a page. These are the various ways the attributes are used to locate elements on a page: `By.ID`, `By.NAME`, `By.TAG_NAME`, `BY.CLASS_NAME`, `By.CSS_SELECTOR`, etc.\n",
        "- For more details, check the documentation (https://selenium-python.readthedocs.io/locating-elements.html)."
      ],
      "metadata": {
        "id": "TMBGzB374oRM"
      }
    },
    {
      "cell_type": "markdown",
      "source": [
        "## Solution"
      ],
      "metadata": {
        "id": "MOV5K_ji5iQi"
      }
    },
    {
      "cell_type": "code",
      "source": [
        "# Write your code here."
      ],
      "metadata": {
        "id": "Naeba0l31AVU"
      },
      "execution_count": null,
      "outputs": []
    },
    {
      "cell_type": "code",
      "source": [
        "# Add as many code boxes as you need."
      ],
      "metadata": {
        "id": "PFK34b5R5c0N"
      },
      "execution_count": null,
      "outputs": []
    },
    {
      "cell_type": "markdown",
      "source": [
        "# Laboratory Exercise - Bonus Task (+ 2 points)"
      ],
      "metadata": {
        "id": "oCkjUHg75fNe"
      }
    },
    {
      "cell_type": "markdown",
      "source": [
        "In the context of scraping the website https://www.scrapethissite.com/pages/forms/, the additional task involves searching for the hockey team 'Boston Bruins' using the available search field. You will extract the wins and losses data for this team covering the years from 1990 to 2011. After gathering this information, your task is to create a line plot where the wins and losses of the 'Boston Bruins' team are visualized across the years, displaying both trends on the same plot."
      ],
      "metadata": {
        "id": "t1qEBqeW8UJa"
      }
    },
    {
      "cell_type": "markdown",
      "source": [
        "## Hints\n",
        "- To populate an input field (`input_field`) with some `text` use `input_field.send_keys(text)`.\n",
        "- To click on a specific `element` on a web page use `element.click()`."
      ],
      "metadata": {
        "id": "DgXk1c4k-5dR"
      }
    },
    {
      "cell_type": "markdown",
      "source": [
        "## Solution"
      ],
      "metadata": {
        "id": "AXxIi7bv9lPw"
      }
    },
    {
      "cell_type": "code",
      "source": [
        "# Write your code here."
      ],
      "metadata": {
        "id": "ztX3X1pB5f4j"
      },
      "execution_count": null,
      "outputs": []
    },
    {
      "cell_type": "code",
      "source": [
        "# Add as many code boxes as you need."
      ],
      "metadata": {
        "id": "U-7KiLUF9hxp"
      },
      "execution_count": null,
      "outputs": []
    }
  ]
}