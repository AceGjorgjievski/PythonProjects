{
  "nbformat": 4,
  "nbformat_minor": 0,
  "metadata": {
    "colab": {
      "provenance": []
    },
    "kernelspec": {
      "name": "python3",
      "display_name": "Python 3"
    },
    "language_info": {
      "name": "python"
    }
  },
  "cells": [
    {
      "cell_type": "markdown",
      "source": [
        "# Requirements"
      ],
      "metadata": {
        "id": "fU3LwS741EZQ"
      }
    },
    {
      "cell_type": "code",
      "source": [
        "from selenium import webdriver\n",
        "from selenium.webdriver.common.by import By\n",
        "import pandas as pd"
      ],
      "metadata": {
        "id": "4aqZf-9e1aKt"
      },
      "execution_count": null,
      "outputs": []
    },
    {
      "cell_type": "markdown",
      "source": [
        "# Configuration"
      ],
      "metadata": {
        "id": "eVCAmQfy1rqh"
      }
    },
    {
      "cell_type": "code",
      "source": [
        "options = webdriver.ChromeOptions()\n",
        "options.add_argument('--headless')\n",
        "options.add_argument('--no-sandbox')\n",
        "options.add_argument('--disable-dev-shm-usage')"
      ],
      "metadata": {
        "id": "wWzehF8809IJ"
      },
      "execution_count": null,
      "outputs": []
    },
    {
      "cell_type": "markdown",
      "source": [
        "# Simple Usage"
      ],
      "metadata": {
        "id": "3FU-fkTj1zEC"
      }
    },
    {
      "cell_type": "code",
      "source": [
        "# Initialize the webdriver.\n",
        "browser = webdriver.Chrome(options=options)"
      ],
      "metadata": {
        "id": "gGB1un_t10_N"
      },
      "execution_count": null,
      "outputs": []
    },
    {
      "cell_type": "code",
      "execution_count": null,
      "metadata": {
        "id": "8EYuaHWxa-wR"
      },
      "outputs": [],
      "source": [
        "# Navigate to a web page.\n",
        "browser.get('https://www.apple.com/mk/')"
      ]
    },
    {
      "cell_type": "code",
      "source": [
        "# Print the page source code.\n",
        "print(browser.page_source)"
      ],
      "metadata": {
        "id": "HWnwzCye2Fq1"
      },
      "execution_count": null,
      "outputs": []
    },
    {
      "cell_type": "code",
      "source": [
        "# Select an element from the page.\n",
        "element = browser.find_element(By.CLASS_NAME, 'headline')"
      ],
      "metadata": {
        "id": "H-5h-xse2L8I"
      },
      "execution_count": null,
      "outputs": []
    },
    {
      "cell_type": "code",
      "source": [
        "# Print the element's innner text.\n",
        "print(element.text)"
      ],
      "metadata": {
        "id": "Rne65WGs3CJs"
      },
      "execution_count": null,
      "outputs": []
    },
    {
      "cell_type": "markdown",
      "source": [
        "# Laboratory Exercise - Run Mode (8 points)"
      ],
      "metadata": {
        "id": "JzaK-Awf4hKN"
      }
    },
    {
      "cell_type": "markdown",
      "source": [
        "In this laboratory assignment, the goal is to perform web scraping on the website https://books.toscrape.com/. Your task includes the extraction of book titles and prices for a minimum of 20 books from this website. Following this data extraction, you will construct a data frame to organize the collected data. Finally, you are expected to generate a histogram to provide a visual representation of the distribution of book prices."
      ],
      "metadata": {
        "id": "S0YnPh8r4p7M"
      }
    },
    {
      "cell_type": "markdown",
      "source": [
        "## Hints\n",
        "- To navigate to a specific page with a given URL, use the `browser.get(url)` method.\n",
        "- When selecting a single element, use `browser.find_element`, and for multiple elements, use `browser.find_elements`. Both of these functions take two arguments. The first specifies the attribute used to locate the element on the web page, and the second specifies the value of that attribute.\n",
        "- The `By` class is used to specify which attribute is used to locate elements on a page. These are the various ways the attributes are used to locate elements on a page: `By.ID`, `By.NAME`, `By.TAG_NAME`, `BY.CLASS_NAME`, `By.CSS_SELECTOR`, etc.\n",
        "- For more details, check the documentation (https://selenium-python.readthedocs.io/locating-elements.html)."
      ],
      "metadata": {
        "id": "pAWUA3br7pnH"
      }
    },
    {
      "cell_type": "markdown",
      "source": [
        "## Solution"
      ],
      "metadata": {
        "id": "JsyFl54d-79Y"
      }
    },
    {
      "cell_type": "code",
      "source": [
        "# Write your code here. Add as many code boxes as you need."
      ],
      "metadata": {
        "id": "LZIHRH7f3F00"
      },
      "execution_count": null,
      "outputs": []
    },
    {
      "cell_type": "markdown",
      "source": [
        "# Laboratory Exercise - Bonus Task (+ 2 points)"
      ],
      "metadata": {
        "id": "UyMTnSHn681f"
      }
    },
    {
      "cell_type": "markdown",
      "source": [
        "As an additional task, you will need to click on each book listed on the page, proceed to the individual page for each book, and extract the quantity of available copies. Subsequently, you are required to compute both the mean and standard deviation of the quantities of these books."
      ],
      "metadata": {
        "id": "aMhYrG8V7hKY"
      }
    },
    {
      "cell_type": "markdown",
      "source": [
        "## Hints\n",
        "- To click on a specific `element` on a web page use `element.click()`.\n",
        "- To navigate back to the previous page use `browser.back()`."
      ],
      "metadata": {
        "id": "jQIBbGWS9-tx"
      }
    },
    {
      "cell_type": "markdown",
      "source": [
        "## Solution"
      ],
      "metadata": {
        "id": "lxPS-iXi-5fO"
      }
    },
    {
      "cell_type": "code",
      "source": [
        "# Write your code here. Add as many code boxes as you need."
      ],
      "metadata": {
        "id": "kbuPg7136_2q"
      },
      "execution_count": null,
      "outputs": []
    }
  ]
}