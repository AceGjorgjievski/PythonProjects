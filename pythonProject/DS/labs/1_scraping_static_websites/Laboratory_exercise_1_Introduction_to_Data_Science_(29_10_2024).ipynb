{
 "cells": [
  {
   "cell_type": "markdown",
   "metadata": {
    "id": "IG0xXF7T0x2h"
   },
   "source": [
    "# Requirements"
   ]
  },
  {
   "cell_type": "code",
   "execution_count": null,
   "metadata": {
    "id": "k75Qsxvc0zzZ"
   },
   "outputs": [],
   "source": [
    "from selenium import webdriver\n",
    "from selenium.webdriver.common.by import By\n",
    "import pandas as pd"
   ]
  },
  {
   "cell_type": "markdown",
   "metadata": {
    "id": "OqXF3IZU00_g"
   },
   "source": [
    "# Configuration"
   ]
  },
  {
   "cell_type": "code",
   "execution_count": null,
   "metadata": {
    "id": "2MLM03DJ02TK"
   },
   "outputs": [],
   "source": [
    "options = webdriver.ChromeOptions()\n",
    "options.add_argument('--headless')\n",
    "options.add_argument('--no-sandbox')\n",
    "options.add_argument('--disable-dev-shm-usage')"
   ]
  },
  {
   "cell_type": "markdown",
   "metadata": {
    "id": "vhsS7FZU03uf"
   },
   "source": [
    "# Simple Usage"
   ]
  },
  {
   "cell_type": "code",
   "execution_count": null,
   "metadata": {
    "id": "XAR-vEvw03hB"
   },
   "outputs": [],
   "source": [
    "# Initialize the webdriver.\n",
    "browser = webdriver.Chrome(options=options)"
   ]
  },
  {
   "cell_type": "code",
   "execution_count": null,
   "metadata": {
    "id": "SRlMjKmz05uN"
   },
   "outputs": [],
   "source": [
    "# Navigate to a web page.\n",
    "browser.get('https://www.apple.com/mk/')"
   ]
  },
  {
   "cell_type": "code",
   "execution_count": null,
   "metadata": {
    "id": "XENkqBtc07ql"
   },
   "outputs": [],
   "source": [
    "# Print the page source code.\n",
    "print(browser.page_source)"
   ]
  },
  {
   "cell_type": "code",
   "execution_count": null,
   "metadata": {
    "id": "j2IK2Ka408sg"
   },
   "outputs": [],
   "source": [
    "# Select an element from the page.\n",
    "element = browser.find_element(By.CLASS_NAME, 'headline')"
   ]
  },
  {
   "cell_type": "code",
   "execution_count": null,
   "metadata": {
    "id": "ErxN591d09ul"
   },
   "outputs": [],
   "source": [
    "# Print the element's innner text.\n",
    "print(element.text)"
   ]
  },
  {
   "cell_type": "markdown",
   "metadata": {
    "id": "M9CVMKMx0-SY"
   },
   "source": [
    "# Laboratory Exercise - Run Mode (8 points)"
   ]
  },
  {
   "cell_type": "markdown",
   "metadata": {
    "id": "dGHA83FS1Lqk"
   },
   "source": [
    "In this laboratory assignment, the goal is to perform web scraping using **Selenium** on the website https://www.scrapethissite.com/pages/forms/. The task includes the extraction of **hockey team names** and their **wins** and **losses** in the respective **year** for a minimum of 25 hockey teams. Following this data extraction, you will construct a data frame to organize the collected data. Finally, you are expected to generate a histogram to provide a visual representation of the distribution of wins and losses in the year 1990."
   ]
  },
  {
   "cell_type": "markdown",
   "metadata": {
    "id": "TMBGzB374oRM"
   },
   "source": [
    "## Hints\n",
    "- To navigate to a specific page with a given URL, use the `browser.get(url)` method.\n",
    "- When selecting a single element, use `browser.find_element`, and for multiple elements, use `browser.find_elements`. Both of these functions take two arguments. The first specifies the attribute used to locate the element on the web page, and the second specifies the value of that attribute.\n",
    "- The `By` class is used to specify which attribute is used to locate elements on a page. These are the various ways the attributes are used to locate elements on a page: `By.ID`, `By.NAME`, `By.TAG_NAME`, `BY.CLASS_NAME`, `By.CSS_SELECTOR`, etc.\n",
    "- For more details, check the documentation (https://selenium-python.readthedocs.io/locating-elements.html)."
   ]
  },
  {
   "cell_type": "markdown",
   "metadata": {
    "id": "MOV5K_ji5iQi"
   },
   "source": [
    "## Solution"
   ]
  },
  {
   "cell_type": "code",
   "execution_count": null,
   "metadata": {
    "id": "Naeba0l31AVU"
   },
   "outputs": [],
   "source": [
    "# Write your code here."
   ]
  },
  {
   "cell_type": "code",
   "execution_count": null,
   "metadata": {
    "id": "PFK34b5R5c0N"
   },
   "outputs": [],
   "source": [
    "# Add as many code boxes as you need."
   ]
  },
  {
   "cell_type": "markdown",
   "metadata": {
    "id": "oCkjUHg75fNe"
   },
   "source": [
    "# Laboratory Exercise - Bonus Task (+ 2 points)"
   ]
  },
  {
   "cell_type": "markdown",
   "metadata": {
    "id": "t1qEBqeW8UJa"
   },
   "source": [
    "In the context of scraping the website https://www.scrapethissite.com/pages/forms/, the additional task involves searching for the hockey team 'Boston Bruins' using the available search field. You will extract the wins and losses data for this team covering the years from 1990 to 2011. After gathering this information, your task is to create a line plot where the wins and losses of the 'Boston Bruins' team are visualized across the years, displaying both trends on the same plot."
   ]
  },
  {
   "cell_type": "markdown",
   "metadata": {
    "id": "DgXk1c4k-5dR"
   },
   "source": [
    "## Hints\n",
    "- To populate an input field (`input_field`) with some `text` use `input_field.send_keys(text)`.\n",
    "- To click on a specific `element` on a web page use `element.click()`."
   ]
  },
  {
   "cell_type": "markdown",
   "metadata": {
    "id": "AXxIi7bv9lPw"
   },
   "source": [
    "## Solution"
   ]
  },
  {
   "cell_type": "code",
   "execution_count": null,
   "metadata": {
    "id": "ztX3X1pB5f4j"
   },
   "outputs": [],
   "source": [
    "# Write your code here."
   ]
  },
  {
   "cell_type": "code",
   "execution_count": null,
   "metadata": {
    "id": "U-7KiLUF9hxp"
   },
   "outputs": [],
   "source": [
    "# Add as many code boxes as you need."
   ]
  }
 ],
 "metadata": {
  "colab": {
   "provenance": []
  },
  "kernelspec": {
   "display_name": "Python 3 (ipykernel)",
   "language": "python",
   "name": "python3"
  },
  "language_info": {
   "codemirror_mode": {
    "name": "ipython",
    "version": 3
   },
   "file_extension": ".py",
   "mimetype": "text/x-python",
   "name": "python",
   "nbconvert_exporter": "python",
   "pygments_lexer": "ipython3",
   "version": "3.8.10"
  }
 },
 "nbformat": 4,
 "nbformat_minor": 4
}
